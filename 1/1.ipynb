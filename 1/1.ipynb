{
 "cells": [
  {
   "cell_type": "markdown",
   "metadata": {},
   "source": [
    "## Part 1"
   ]
  },
  {
   "cell_type": "code",
   "execution_count": 19,
   "metadata": {},
   "outputs": [
    {
     "name": "stdout",
     "output_type": "stream",
     "text": [
      "1879048\n"
     ]
    }
   ],
   "source": [
    "import numpy as np\n",
    "l1 = []\n",
    "l2 = []\n",
    "with open(\"input\") as input_file:\n",
    "    for l in input_file.readlines():\n",
    "        l1.append(int(l.split(\"   \")[0]))\n",
    "        l2.append(int(l.split(\"   \")[1]))\n",
    "l1 = np.sort(l1)\n",
    "l2 = np.sort(l2)\n",
    "dists = [abs(l1[i]-l2[i]) for i in range(len(l1))]\n",
    "print(sum(dists))"
   ]
  },
  {
   "cell_type": "markdown",
   "metadata": {},
   "source": [
    "## Part 2"
   ]
  },
  {
   "cell_type": "code",
   "execution_count": 26,
   "metadata": {},
   "outputs": [
    {
     "data": {
      "text/plain": [
       "21024792"
      ]
     },
     "execution_count": 26,
     "metadata": {},
     "output_type": "execute_result"
    }
   ],
   "source": [
    "from collections import Counter\n",
    "l1 = []\n",
    "l2 = []\n",
    "with open(\"input\") as input_file:\n",
    "    for l in input_file.readlines():\n",
    "        l1.append(int(l.split(\"   \")[0]))\n",
    "        l2.append(int(l.split(\"   \")[1]))\n",
    "counter_l2 = Counter(l2)\n",
    "\n",
    "ret = 0\n",
    "for num in l1:\n",
    "    ret += num * counter_l2[num]\n",
    "ret"
   ]
  }
 ],
 "metadata": {
  "kernelspec": {
   "display_name": "mmc_masking",
   "language": "python",
   "name": "python3"
  },
  "language_info": {
   "codemirror_mode": {
    "name": "ipython",
    "version": 3
   },
   "file_extension": ".py",
   "mimetype": "text/x-python",
   "name": "python",
   "nbconvert_exporter": "python",
   "pygments_lexer": "ipython3",
   "version": "3.12.2"
  }
 },
 "nbformat": 4,
 "nbformat_minor": 2
}
