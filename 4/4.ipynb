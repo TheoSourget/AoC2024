{
 "cells": [
  {
   "cell_type": "markdown",
   "metadata": {},
   "source": [
    "## Part 1"
   ]
  },
  {
   "cell_type": "code",
   "execution_count": null,
   "metadata": {},
   "outputs": [
    {
     "data": {
      "text/plain": [
       "2336"
      ]
     },
     "execution_count": 11,
     "metadata": {},
     "output_type": "execute_result"
    }
   ],
   "source": [
    "import numpy as np\n",
    "input_data = []\n",
    "with open(\"input\") as input_file:\n",
    "    for l in input_file.readlines():\n",
    "        input_data.append([*l])\n",
    "\n",
    "ret = 0\n",
    "value = {\"XMAS\":1}\n",
    "for i in range(len(input_data)):\n",
    "    for j in range(len(input_data[0])):\n",
    "        w1 = input_data[i][j]+input_data[i][j+1]+input_data[i][j+2]+input_data[i][j+3] if j+3 < len(input_data[0]) else \"\"\n",
    "        w2 = input_data[i][j]+input_data[i][j-1]+input_data[i][j-2]+input_data[i][j-3] if j-3 >= 0 else \"\"\n",
    "        w3 = input_data[i][j]+input_data[i+1][j]+input_data[i+2][j]+input_data[i+3][j] if i+3 < len(input_data) else \"\"\n",
    "        w4 = input_data[i][j]+input_data[i-1][j]+input_data[i-2][j]+input_data[i-3][j] if i-3 >= 0 else \"\"\n",
    "        w5 = input_data[i][j]+input_data[i+1][j+1]+input_data[i+2][j+2]+input_data[i+3][j+3] if ((i+3 < len(input_data)) and (j+3 < len(input_data[0]))) else \"\"\n",
    "        w6 = input_data[i][j]+input_data[i-1][j+1]+input_data[i-2][j+2]+input_data[i-3][j+3] if ((i-3 >= 0) and (j+3 < len(input_data[0]))) else \"\"\n",
    "        w7 = input_data[i][j]+input_data[i+1][j-1]+input_data[i+2][j-2]+input_data[i+3][j-3] if ((i+3 < len(input_data)) and (j-3 >= 0)) else \"\"\n",
    "        w8 = input_data[i][j]+input_data[i-1][j-1]+input_data[i-2][j-2]+input_data[i-3][j-3] if ((i-3 >= 0) and (j-3 >= 0)) else \"\"\n",
    "        ret += value.get(w1,0) + value.get(w2,0) + value.get(w3,0) + value.get(w4,0) + value.get(w5,0) + value.get(w6,0) + value.get(w7,0) + value.get(w8,0)\n",
    "ret"
   ]
  },
  {
   "cell_type": "markdown",
   "metadata": {},
   "source": [
    "## Part 2"
   ]
  },
  {
   "cell_type": "code",
   "execution_count": 15,
   "metadata": {},
   "outputs": [
    {
     "data": {
      "text/plain": [
       "1831"
      ]
     },
     "execution_count": 15,
     "metadata": {},
     "output_type": "execute_result"
    }
   ],
   "source": [
    "import numpy as np\n",
    "input_data = []\n",
    "with open(\"input\") as input_file:\n",
    "    for l in input_file.readlines():\n",
    "        input_data.append([*l])\n",
    "\n",
    "ret = 0\n",
    "for i in range(len(input_data)):\n",
    "    for j in range(len(input_data[0])):\n",
    "        current_letter = input_data[i][j]\n",
    "        if current_letter == \"A\":\n",
    "            w1 = input_data[i+1][j+1] if ((i+1 < len(input_data)) and (j+1 < len(input_data[0]))) else \"\"\n",
    "            w2 = input_data[i-1][j-1] if ((i-1 >= 0) and (j-1 >= 0)) else \"\"\n",
    "            w3 = input_data[i+1][j-1] if ((i+1 < len(input_data)) and (j-1 >= 0)) else \"\"\n",
    "            w4 = input_data[i-1][j+1] if ((i-1 >= 0) and (j+1 < len(input_data[0]))) else \"\"\n",
    "        \n",
    "        if( w2+current_letter+w1 in [\"MAS\",\"SAM\"]) and (w4+current_letter+w3 in [\"MAS\",\"SAM\"]):\n",
    "            ret += 1\n",
    "ret"
   ]
  }
 ],
 "metadata": {
  "kernelspec": {
   "display_name": "mmc_masking",
   "language": "python",
   "name": "python3"
  },
  "language_info": {
   "codemirror_mode": {
    "name": "ipython",
    "version": 3
   },
   "file_extension": ".py",
   "mimetype": "text/x-python",
   "name": "python",
   "nbconvert_exporter": "python",
   "pygments_lexer": "ipython3",
   "version": "3.12.2"
  }
 },
 "nbformat": 4,
 "nbformat_minor": 2
}
