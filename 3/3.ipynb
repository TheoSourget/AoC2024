{
 "cells": [
  {
   "cell_type": "markdown",
   "metadata": {},
   "source": [
    "## Part 1"
   ]
  },
  {
   "cell_type": "code",
   "execution_count": 15,
   "metadata": {},
   "outputs": [
    {
     "name": "stdout",
     "output_type": "stream",
     "text": [
      "182619815\n"
     ]
    }
   ],
   "source": [
    "import re\n",
    "memory = \"\"\n",
    "with open(\"input\") as input_file:\n",
    "    for l in input_file.readlines():\n",
    "        memory += l\n",
    "\n",
    "regex = r\"mul\\((\\d{1,3}),(\\d{1,3})\\)\"\n",
    "regex_number = re.compile(regex)\n",
    "matches_list = re.findall(regex_number, memory)\n",
    "ret = 0\n",
    "for mul in matches_list:\n",
    "    ret += int(mul[0])*int(mul[1])\n",
    "print(ret)"
   ]
  },
  {
   "cell_type": "markdown",
   "metadata": {},
   "source": [
    "## Part 2"
   ]
  },
  {
   "cell_type": "code",
   "execution_count": 14,
   "metadata": {},
   "outputs": [
    {
     "name": "stdout",
     "output_type": "stream",
     "text": [
      "80747545\n"
     ]
    }
   ],
   "source": [
    "import re\n",
    "memory = \"\"\n",
    "with open(\"input\") as input_file:\n",
    "    for l in input_file.readlines():\n",
    "        memory += l\n",
    "memory = memory.replace(\"\\n\", \"\")\n",
    "\n",
    "regex_between = r\"(?=don't\\(\\)).*?(?=do\\(\\)|$)\"\n",
    "memory = re.sub(regex_between,'',memory)\n",
    "\n",
    "regex_mul = r\"mul\\((\\d{1,3}),(\\d{1,3})\\)\"\n",
    "regex_mul_compile = re.compile(regex_mul)\n",
    "matches_list = re.findall(regex_mul_compile, memory)\n",
    "ret = 0\n",
    "for mul in matches_list:\n",
    "    ret += int(mul[0])*int(mul[1])\n",
    "print(ret)"
   ]
  }
 ],
 "metadata": {
  "kernelspec": {
   "display_name": "mmc_masking",
   "language": "python",
   "name": "python3"
  },
  "language_info": {
   "codemirror_mode": {
    "name": "ipython",
    "version": 3
   },
   "file_extension": ".py",
   "mimetype": "text/x-python",
   "name": "python",
   "nbconvert_exporter": "python",
   "pygments_lexer": "ipython3",
   "version": "3.12.2"
  }
 },
 "nbformat": 4,
 "nbformat_minor": 2
}
