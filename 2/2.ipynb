{
 "cells": [
  {
   "cell_type": "markdown",
   "metadata": {},
   "source": [
    "## Part 1"
   ]
  },
  {
   "cell_type": "code",
   "execution_count": null,
   "metadata": {},
   "outputs": [
    {
     "data": {
      "text/plain": [
       "202"
      ]
     },
     "execution_count": 37,
     "metadata": {},
     "output_type": "execute_result"
    }
   ],
   "source": [
    "import numpy as np\n",
    "list_levels = []\n",
    "with open(\"input\") as input_file:\n",
    "    for l in input_file.readlines():\n",
    "        list_levels.append([int(num) for num in l.split(\" \")])\n",
    "\n",
    "nb_safe = 0\n",
    "for l in list_levels:\n",
    "    l = np.array(l)\n",
    "    if (l != np.sort(l)).any() and (l != np.sort(l)[::-1]).any() :\n",
    "        continue\n",
    "    diffs = abs(l[:-1] - l[1:])\n",
    "    if (diffs >= 1).all() and (diffs <= 3).all():\n",
    "         nb_safe += 1\n",
    "    \n",
    "nb_safe"
   ]
  },
  {
   "cell_type": "markdown",
   "metadata": {},
   "source": [
    "## Part 2"
   ]
  },
  {
   "cell_type": "code",
   "execution_count": null,
   "metadata": {},
   "outputs": [
    {
     "data": {
      "text/plain": [
       "271"
      ]
     },
     "execution_count": 90,
     "metadata": {},
     "output_type": "execute_result"
    }
   ],
   "source": [
    "import numpy as np\n",
    "list_levels = []\n",
    "with open(\"input\") as input_file:\n",
    "    for l in input_file.readlines():\n",
    "        list_levels.append([int(num) for num in l.split(\" \")])\n",
    "\n",
    "def is_safe(l):\n",
    "    l = np.array(l)\n",
    "    if (l != np.sort(l)).any() and (l != np.sort(l)[::-1]).any() :\n",
    "        return 0\n",
    "    diffs = abs(l[:-1] - l[1:])\n",
    "    if (diffs >= 1).all() and (diffs <= 3).all():\n",
    "         return 1\n",
    "    return 0\n",
    "\n",
    "nb_safe = 0\n",
    "for l in list_levels:\n",
    "    l = np.array(l)\n",
    "    safe = is_safe(l)\n",
    "    if not safe:\n",
    "        for i in range(len(l)):\n",
    "            clean_l = np.delete(l,i)\n",
    "            safe = is_safe(clean_l)\n",
    "            if safe:\n",
    "                break\n",
    "    nb_safe += safe\n",
    "nb_safe"
   ]
  }
 ],
 "metadata": {
  "kernelspec": {
   "display_name": "mmc_masking",
   "language": "python",
   "name": "python3"
  },
  "language_info": {
   "codemirror_mode": {
    "name": "ipython",
    "version": 3
   },
   "file_extension": ".py",
   "mimetype": "text/x-python",
   "name": "python",
   "nbconvert_exporter": "python",
   "pygments_lexer": "ipython3",
   "version": "3.12.2"
  }
 },
 "nbformat": 4,
 "nbformat_minor": 2
}
